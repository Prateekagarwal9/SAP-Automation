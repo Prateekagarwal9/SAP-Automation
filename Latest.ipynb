{
 "cells": [
  {
   "cell_type": "code",
   "execution_count": 1,
   "metadata": {},
   "outputs": [],
   "source": [
    "from schema_export import ViewSchemaExporter,TableSchemaExporter\n",
    "from df_creator import DFCreator\n",
    "import pandas as pd"
   ]
  },
  {
   "cell_type": "code",
   "execution_count": 1,
   "metadata": {},
   "outputs": [],
   "source": [
    "from azure.common.credentials import ServicePrincipalCredentials\n",
    "from azure.mgmt.resource import ResourceManagementClient\n",
    "from azure.mgmt.datafactory import DataFactoryManagementClient\n",
    "from azure.mgmt.datafactory.models import *"
   ]
  },
  {
   "cell_type": "code",
   "execution_count": 3,
   "metadata": {},
   "outputs": [],
   "source": [
    "schema = 'SAPHANADB'\n",
    "source = 'VBAP'\n",
    "source_type = 'TABLE'"
   ]
  },
  {
   "cell_type": "code",
   "execution_count": 4,
   "metadata": {},
   "outputs": [],
   "source": [
    "sap_con = '{\"host\" : \"40.87.84.72\",\"port\" : 30215,\"user\" : \"system\",\"password\" : \"Metro#123\"}'\n",
    "sql_con = 'Server=tcp:yashtesting.database.windows.net;Database=test;Uid=yash@yashtesting;Pwd=Myageis@20;Encrypt=yes;Connection Timeout=30;'\n",
    "sql_odbc_con = 'Driver={ODBC Driver 17 for SQL Server};'+sql_con"
   ]
  },
  {
   "cell_type": "code",
   "execution_count": 5,
   "metadata": {},
   "outputs": [
    {
     "name": "stdout",
     "output_type": "stream",
     "text": [
      "Connecting to DB\n"
     ]
    }
   ],
   "source": [
    "if source_type == 'VIEW':\n",
    "    se = ViewSchemaExporter(sap_con_string=sap_con,sql_con_string=sql_odbc_con,sap_view= f'{schema}.{source}')\n",
    "    se.replicate_sap_view()\n",
    "elif source_type == 'TABLE':\n",
    "    se = TableSchemaExporter(sap_con_string=sap_con,sql_con_string=sql_odbc_con,sap_table= f'{schema}.{source}')\n",
    "    se.replicate_sap_table()"
   ]
  },
  {
   "cell_type": "code",
   "execution_count": 3,
   "metadata": {},
   "outputs": [],
   "source": [
    "subscription_id = '938ace66-9598-4029-b6bb-429929b03761'\n",
    "rg_name = 'celebal_rnd'\n",
    "df_name = 'celebaladf'\n",
    "client_id = 'b628371b-654f-4848-b214-c8553f2fc665' \n",
    "secret = '/JCA4now2LAn1/L4aa+ICfmTumPRryW.'\n",
    "tenant = 'e4e34038-ea1f-4882-b6e8-ccd776459ca0'\n",
    "rg_params = {'location':'eastus'}\n",
    "df_params = {'location':'eastus'}"
   ]
  },
  {
   "cell_type": "code",
   "execution_count": 7,
   "metadata": {},
   "outputs": [],
   "source": [
    "credentials = ServicePrincipalCredentials(client_id=client_id, secret=secret, tenant=tenant)\n",
    "resource_client = ResourceManagementClient(credentials, subscription_id)\n",
    "adf_client = DataFactoryManagementClient(credentials, subscription_id)"
   ]
  },
  {
   "cell_type": "markdown",
   "metadata": {},
   "source": [
    "# Linked Services"
   ]
  },
  {
   "cell_type": "markdown",
   "metadata": {},
   "source": [
    "## SAP Linked Service"
   ]
  },
  {
   "cell_type": "code",
   "execution_count": 8,
   "metadata": {},
   "outputs": [],
   "source": [
    "sap_ls_name = 'sapHanaLinkedService'\n",
    "ir_reference = IntegrationRuntimeReference(reference_name='integrationRuntime3')\n",
    "sap_pass = SecureString(value='Metro#123')\n",
    "ls_sap_hana = SapHanaLinkedService(server='40.87.84.72:30215',user_name='system',password=sap_pass,authentication_type='Basic',connect_via=ir_reference)\n",
    "ls = adf_client.linked_services.create_or_update(rg_name, df_name, sap_ls_name, ls_sap_hana)"
   ]
  },
  {
   "cell_type": "markdown",
   "metadata": {},
   "source": [
    "## SQL Linked Service"
   ]
  },
  {
   "cell_type": "code",
   "execution_count": 9,
   "metadata": {},
   "outputs": [],
   "source": [
    "sql_ls_name = 'sqlLinkedServiceYash'\n",
    "sql_string = SecureString(value=sql_con)\n",
    "ls_azure_sql = AzureSqlDatabaseLinkedService(connection_string=sql_string)\n",
    "sql_ls = adf_client.linked_services.create_or_update(rg_name, df_name, sql_ls_name, ls_azure_sql)"
   ]
  },
  {
   "cell_type": "markdown",
   "metadata": {},
   "source": [
    "# Datasets"
   ]
  },
  {
   "cell_type": "markdown",
   "metadata": {},
   "source": [
    "## SAP Dataset"
   ]
  },
  {
   "cell_type": "code",
   "execution_count": 10,
   "metadata": {},
   "outputs": [],
   "source": [
    "ds_name = 'SAP_Dataset'\n",
    "ds_ls = LinkedServiceReference(reference_name=sap_ls_name)\n",
    "ds_sap_table = RelationalTableDataset(linked_service_name=ds_ls)\n",
    "ds = adf_client.datasets.create_or_update(rg_name, df_name, ds_name, ds_sap_table)"
   ]
  },
  {
   "cell_type": "markdown",
   "metadata": {},
   "source": [
    "## SQL Dataset"
   ]
  },
  {
   "cell_type": "code",
   "execution_count": 11,
   "metadata": {
    "scrolled": true
   },
   "outputs": [],
   "source": [
    "dsOut_name = 'SQL_Dataset'\n",
    "dsOut_def = {\n",
    "    \"linkedServiceName\": {\n",
    "        \"referenceName\": f\"{sql_ls_name}\",\n",
    "        \"type\": \"LinkedServiceReference\"\n",
    "    },\n",
    "    \"parameters\": {\n",
    "        \"TABLENAME\": {\n",
    "            \"type\": \"string\"\n",
    "        }\n",
    "    },\n",
    "    \"type\": \"AzureSqlTable\",\n",
    "    \"schema\": [],\n",
    "    \"typeProperties\": {\n",
    "        \"tableName\": {\n",
    "            \"value\": \"@dataset().TABLENAME\",\n",
    "            \"type\": \"Expression\"\n",
    "        }\n",
    "    }\n",
    "}\n",
    "dsOut_azure_sql = AzureSqlTableDataset.from_dict(dsOut_def)\n",
    "dsOut = adf_client.datasets.create_or_update(rg_name, df_name, dsOut_name, dsOut_azure_sql)"
   ]
  },
  {
   "cell_type": "code",
   "execution_count": 12,
   "metadata": {},
   "outputs": [
    {
     "data": {
      "text/plain": [
       "azure.mgmt.datafactory.models.azure_sql_table_dataset.AzureSqlTableDataset"
      ]
     },
     "execution_count": 12,
     "metadata": {},
     "output_type": "execute_result"
    }
   ],
   "source": [
    "type(dsOut_azure_sql)"
   ]
  },
  {
   "cell_type": "markdown",
   "metadata": {},
   "source": [
    "## Source and Sink"
   ]
  },
  {
   "cell_type": "code",
   "execution_count": 13,
   "metadata": {},
   "outputs": [],
   "source": [
    "mapping = se.mapping"
   ]
  },
  {
   "cell_type": "code",
   "execution_count": 14,
   "metadata": {},
   "outputs": [],
   "source": [
    "def make_source_query() -> str:\n",
    "    source_name = f'\"{schema}\".\"{source}\"'\n",
    "    return f'SELECT {\",\".join(mapping.keys())} from {source_name}'\n",
    "\n",
    "def make_precopy_script(sql_table:str) -> str:\n",
    "    return f'TRUNCATE TABLE [dbo].[{source}]'"
   ]
  },
  {
   "cell_type": "code",
   "execution_count": 15,
   "metadata": {},
   "outputs": [],
   "source": [
    "source_type = RelationalSource(query=make_source_query())\n",
    "destination_type = SqlSink()"
   ]
  },
  {
   "cell_type": "code",
   "execution_count": 16,
   "metadata": {},
   "outputs": [],
   "source": [
    "dsin_ref = DatasetReference(ds_name)\n",
    "dsOut_ref = DatasetReference(dsOut_name,parameters={\n",
    "    \"TABLENAME\":f\"[dbo].[{source}]\"\n",
    "})"
   ]
  },
  {
   "cell_type": "code",
   "execution_count": 17,
   "metadata": {},
   "outputs": [],
   "source": [
    "def make_translator()->TabularTranslator:\n",
    "    source = mapping     \n",
    "    mappings = []\n",
    "    for key in source:\n",
    "        obj = {}\n",
    "        obj['source'] = {\"name\":key}\n",
    "        obj['sink'] = {\"name\":source[key]}\n",
    "        mappings.append(obj)\n",
    "    return TabularTranslator.from_dict({\"type\":\"TabularTranslator\",\"mappings\":mappings})"
   ]
  },
  {
   "cell_type": "code",
   "execution_count": 18,
   "metadata": {},
   "outputs": [],
   "source": [
    "trans = make_translator()"
   ]
  },
  {
   "cell_type": "code",
   "execution_count": 19,
   "metadata": {},
   "outputs": [],
   "source": [
    "copy_activity = CopyActivity('S4Hana to SQL Copy',inputs=[dsin_ref], outputs=[dsOut_ref],source=source_type, sink=destination_type,translator=trans)\n",
    "p_name = 'latestPyCode'\n",
    "p_obj = PipelineResource(activities=[copy_activity])\n",
    "p = adf_client.pipelines.create_or_update(rg_name, df_name, p_name, p_obj)"
   ]
  },
  {
   "cell_type": "code",
   "execution_count": null,
   "metadata": {},
   "outputs": [],
   "source": []
  },
  {
   "cell_type": "code",
   "execution_count": null,
   "metadata": {},
   "outputs": [],
   "source": []
  }
 ],
 "metadata": {
  "kernelspec": {
   "display_name": "Python 3",
   "language": "python",
   "name": "python3"
  },
  "language_info": {
   "codemirror_mode": {
    "name": "ipython",
    "version": 3
   },
   "file_extension": ".py",
   "mimetype": "text/x-python",
   "name": "python",
   "nbconvert_exporter": "python",
   "pygments_lexer": "ipython3",
   "version": "3.6.5"
  }
 },
 "nbformat": 4,
 "nbformat_minor": 2
}
