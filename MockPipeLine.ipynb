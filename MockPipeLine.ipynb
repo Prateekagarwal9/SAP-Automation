{
 "cells": [
  {
   "cell_type": "code",
   "execution_count": 49,
   "metadata": {},
   "outputs": [],
   "source": [
    "from azure.common.credentials import ServicePrincipalCredentials\n",
    "from azure.mgmt.resource import ResourceManagementClient\n",
    "from azure.mgmt.datafactory import DataFactoryManagementClient\n",
    "from azure.mgmt.datafactory.models import *\n",
    "from datetime import datetime, timedelta\n",
    "import time\n",
    "import json\n",
    "from mockODBCData import get_metadata,replicate_sap_source,create_query"
   ]
  },
  {
   "cell_type": "code",
   "execution_count": 50,
   "metadata": {},
   "outputs": [
    {
     "name": "stdout",
     "output_type": "stream",
     "text": [
      "_SYS_BIC\n"
     ]
    }
   ],
   "source": [
    "print(schema)"
   ]
  },
  {
   "cell_type": "code",
   "execution_count": 51,
   "metadata": {},
   "outputs": [],
   "source": [
    "def make_source_query(mapping:dict,source_name:str,schema:str) -> str:\n",
    "    \"\"\"\n",
    "    \"\"\"\n",
    "    source_name = schema + '.' + source_name\n",
    "    return f'SELECT {\",\".join(mapping.keys())} from {source_name}'\n",
    "\n",
    "def make_precopy_script(sql_table:str) -> str:\n",
    "    \"\"\"  \n",
    "    \"\"\"\n",
    "    return f'TRUNCATE TABLE [dbo].{sql_table}'"
   ]
  },
  {
   "cell_type": "code",
   "execution_count": 52,
   "metadata": {},
   "outputs": [],
   "source": [
    "#schema = \"_SYS_BIC\"\n",
    "#sourcename = \"VBAP_DEMO\"\n",
    "#source_type = \"VIEW\"\n",
    "def get_default_mapping(schema,sourcename,istable):\n",
    "    if istable:\n",
    "        source_type = \"TABLE\"\n",
    "    else:\n",
    "        source_type = \"VIEW\"\n",
    "    df = get_metadata(schema=schema,sourcename=sourcename,source_type=source_type) \n",
    "    #df has sap metadeta\n",
    "    return { x:x for x in list(df.index)}"
   ]
  },
  {
   "cell_type": "code",
   "execution_count": 53,
   "metadata": {},
   "outputs": [],
   "source": [
    "#SAPHANADB-schema\n",
    "#VBAP-sourcename\n",
    "#True-use_default_mapping\n",
    "def make_translator(schema,sourcename,use_default_mapping = False,istable=False)->TabularTranslator:\n",
    "    \"\"\"\n",
    "    Creates TabularTranslator using given mapping or default mapping \n",
    "  \n",
    "    Parameters: \n",
    "       schema (string): \n",
    "       viewname (string):\n",
    "    \"\"\"\n",
    "    if use_default_mapping:\n",
    "        source = get_default_mapping(schema=schema,sourcename=sourcename,istable=istable)\n",
    "    else:\n",
    "        source = inputs['mapping'] \n",
    "        \n",
    "    mappings = []\n",
    "    \n",
    "###############################    \n",
    "    for key in source:\n",
    "        obj = {}\n",
    "        obj['source'] = {\"name\":key}\n",
    "        obj['sink'] = {\"name\":source[key]} #Stripping square braces\n",
    "        mappings.append(obj)\n",
    "    return TabularTranslator.from_dict({\"type\":\"TabularTranslator\",\"mappings\":mappings})"
   ]
  },
  {
   "cell_type": "markdown",
   "metadata": {},
   "source": [
    "### Execution"
   ]
  },
  {
   "cell_type": "code",
   "execution_count": 59,
   "metadata": {},
   "outputs": [],
   "source": [
    "schema = \"_SYS_BIC\"\n",
    "source = \"Temp/VBAP_DEMO\"\n",
    "istable = False\n",
    "source_type = \"VIEW\"\n",
    "sql_table = source"
   ]
  },
  {
   "cell_type": "code",
   "execution_count": 60,
   "metadata": {},
   "outputs": [],
   "source": [
    "inputs = json.load(open('input.json'))\n"
   ]
  },
  {
   "cell_type": "code",
   "execution_count": 61,
   "metadata": {},
   "outputs": [],
   "source": [
    "mapping = get_default_mapping(schema=schema,sourcename=source,istable=istable)"
   ]
  },
  {
   "cell_type": "code",
   "execution_count": 62,
   "metadata": {},
   "outputs": [
    {
     "name": "stdout",
     "output_type": "stream",
     "text": [
      "{'ABDAT': 'ABDAT', 'ABFOR': 'ABFOR', 'ABGES': 'ABGES', 'ABGRS': 'ABGRS', 'ABGRU': 'ABGRU', 'ABLFZ': 'ABLFZ', 'ABSFZ': 'ABSFZ', 'ABSTA': 'ABSTA', 'AD01PROFNR': 'AD01PROFNR', 'ADACN': 'ADACN', 'ADDNS': 'ADDNS', 'ADICC': 'ADICC', 'ADMOI': 'ADMOI', 'ADPRI': 'ADPRI', 'ADPROF': 'ADPROF', 'ADPROF_1': 'ADPROF_1', 'ADSPC_SPC': 'ADSPC_SPC', 'ADSPC_SPC_1': 'ADSPC_SPC_1', 'AEDAT': 'AEDAT', 'AEKLK': 'AEKLK', 'AEKLK_1': 'AEKLK_1', 'AENAM': 'AENAM', 'AENAM_1': 'AENAM_1', 'AESZN': 'AESZN', 'AESZN_1': 'AESZN_1', 'ALLOW_PMAT_IGNO': 'ALLOW_PMAT_IGNO', 'ALLOW_PMAT_IGNO_1': 'ALLOW_PMAT_IGNO_1', 'ANIMAL_ORIGIN': 'ANIMAL_ORIGIN', 'ANIMAL_ORIGIN_1': 'ANIMAL_ORIGIN_1', 'ANP': 'ANP', 'ANP_1': 'ANP_1', 'ANTLF': 'ANTLF', 'ANZSN': 'ANZSN', 'APCGK_EXTENDI': 'APCGK_EXTENDI', 'APLZL_OAA': 'APLZL_OAA', 'APLZL_OLC': 'APLZL_OLC', 'ARKTX': 'ARKTX', 'ARSNUM': 'ARSNUM', 'ARSPOS': 'ARSPOS', 'ATPKZ': 'ATPKZ', 'ATP_ABC_SUBSTITUTION_STATUS': 'ATP_ABC_SUBSTITUTION_STATUS', 'ATTYP': 'ATTYP', 'ATTYP_1': 'ATTYP_1', 'AUFNR': 'AUFNR', 'AUFPL_OAA': 'AUFPL_OAA', 'AUFPL_OLC': 'AUFPL_OLC', 'AWAHR': 'AWAHR', 'BBTYP': 'BBTYP', 'BBTYP_1': 'BBTYP_1', 'BEDAE': 'BEDAE', 'BEGRU': 'BEGRU', 'BEGRU_1': 'BEGRU_1', 'BEHVO': 'BEHVO', 'BEHVO_1': 'BEHVO_1', 'BERID': 'BERID', 'BESTA': 'BESTA', 'BETC': 'BETC', 'BFLME': 'BFLME', 'BFLME_1': 'BFLME_1', 'BISMT': 'BISMT', 'BISMT_1': 'BISMT_1', 'BLANZ': 'BLANZ', 'BLANZ_1': 'BLANZ_1', 'BLATT': 'BLATT', 'BLATT_1': 'BLATT_1', 'BMATN': 'BMATN', 'BMATN_1': 'BMATN_1', 'BONUS': 'BONUS', 'BPN': 'BPN', 'BRAND_ID': 'BRAND_ID', 'BRAND_ID_1': 'BRAND_ID_1', 'BREIT': 'BREIT', 'BREIT_1': 'BREIT_1', 'BRGEW': 'BRGEW', 'BRGEW_1': 'BRGEW_1', 'BRGEW_2': 'BRGEW_2', 'BRIDGE_MAX_SLOPE': 'BRIDGE_MAX_SLOPE', 'BRIDGE_MAX_SLOPE_1': 'BRIDGE_MAX_SLOPE_1', 'BRIDGE_TRESH': 'BRIDGE_TRESH', 'BRIDGE_TRESH_1': 'BRIDGE_TRESH_1', 'BSTAT': 'BSTAT', 'BSTAT_1': 'BSTAT_1', 'BSTME': 'BSTME', 'BSTME_1': 'BSTME_1', 'BUDGET_PD': 'BUDGET_PD', 'BWSCL': 'BWSCL', 'BWSCL_1': 'BWSCL_1', 'BWTAR': 'BWTAR', 'BWTEX': 'BWTEX', 'BWVOR': 'BWVOR', 'BWVOR_1': 'BWVOR_1', 'CADKZ': 'CADKZ', 'CADKZ_1': 'CADKZ_1', 'CANCEL_ALLOW': 'CANCEL_ALLOW', 'CAPPED_NET_AMOUNT': 'CAPPED_NET_AMOUNT', 'CAPPED_NET_AMOUNT_ALERT_THLD': 'CAPPED_NET_AMOUNT_ALERT_THLD', 'CARE_CODE': 'CARE_CODE', 'CARE_CODE_1': 'CARE_CODE_1', 'CEPOK': 'CEPOK', 'CHARG': 'CHARG', 'CHMVS': 'CHMVS', 'CHSPL': 'CHSPL', 'CLINT': 'CLINT', 'CMETH': 'CMETH', 'CMETH_1': 'CMETH_1', 'CMKUA': 'CMKUA', 'CMPNT': 'CMPNT', 'CMPPI': 'CMPPI', 'CMPPJ': 'CMPPJ', 'CMPRE': 'CMPRE', 'CMPRE_FLT': 'CMPRE_FLT', 'CMREL': 'CMREL', 'CMREL_1': 'CMREL_1', 'CMTFG': 'CMTFG', 'COLOR': 'COLOR', 'COLOR_1': 'COLOR_1', 'COLOR_ATINN': 'COLOR_ATINN', 'COLOR_ATINN_1': 'COLOR_ATINN_1', 'COMMODITY': 'COMMODITY', 'COMMODITY_1': 'COMMODITY_1', 'COMPL': 'COMPL', 'COMPL_1': 'COMPL_1', 'COSTA': 'COSTA', 'CPD_UPDAT': 'CPD_UPDAT', 'CUOBF': 'CUOBF', 'CUOBF_1': 'CUOBF_1', 'CUOBJ': 'CUOBJ', 'CUOBJ_CH': 'CUOBJ_CH', 'CWQPROC': 'CWQPROC', 'CWQPROC_1': 'CWQPROC_1', 'CWQREL': 'CWQREL', 'CWQREL_1': 'CWQREL_1', 'CWQTOLGR': 'CWQTOLGR', 'CWQTOLGR_1': 'CWQTOLGR_1', 'DATAB': 'DATAB', 'DATAB_1': 'DATAB_1', 'DCSTA': 'DCSTA', 'DG_PACK_STATUS': 'DG_PACK_STATUS', 'DG_PACK_STATUS_1': 'DG_PACK_STATUS_1', 'DISST': 'DISST', 'DISST_1': 'DISST_1', 'DPCBT': 'DPCBT', 'DPCBT_1': 'DPCBT_1', 'DUMMY_PRD_INCL_EEW_PS': 'DUMMY_PRD_INCL_EEW_PS', 'DUMMY_PRD_INCL_EEW_PS_1': 'DUMMY_PRD_INCL_EEW_PS_1', 'EAN11': 'EAN11', 'EAN11_1': 'EAN11_1', 'EAN11_2': 'EAN11_2', 'EANNR': 'EANNR', 'DUMMY_SLSDOCITEM_INCL_EEW_PS': 'DUMMY_SLSDOCITEM_INCL_EEW_PS', 'EANNR_1': 'EANNR_1', 'EANNR_2': 'EANNR_2', 'EKWSL': 'EKWSL', 'EKWSL_1': 'EKWSL_1', 'EMCST': 'EMCST', 'ENTAR': 'ENTAR', 'ENTAR_1': 'ENTAR_1', 'EQART': 'EQART', 'EQUNR': 'EQUNR', 'ERDAT': 'ERDAT', 'ERGEI': 'ERGEI', 'ERGEI_1': 'ERGEI_1', 'ERGEW': 'ERGEW', 'ERGEW_1': 'ERGEW_1', 'ERLRE': 'ERLRE', 'ERNAM': 'ERNAM', 'ERNAM_1': 'ERNAM_1', 'ERNAM_2': 'ERNAM_2', 'ERSDA': 'ERSDA', 'ERSDA_1': 'ERSDA_1', 'ERVOE': 'ERVOE', 'ERVOE_1': 'ERVOE_1', 'ERVOL': 'ERVOL', 'ERVOL_1': 'ERVOL_1', 'ERZET': 'ERZET', 'ETIAG': 'ETIAG', 'ETIAG_1': 'ETIAG_1', 'ETIAR': 'ETIAR', 'ETIAR_1': 'ETIAR_1', 'ETIFO': 'ETIFO', 'ETIFO_1': 'ETIFO_1', 'EXART': 'EXART', 'EXTWG': 'EXTWG', 'EXTWG_1': 'EXTWG_1', 'EXT_REF_ITEM_ID': 'EXT_REF_ITEM_ID', 'FABSG': 'FABSG', 'FAKSP': 'FAKSP', 'FASHGRD': 'FASHGRD', 'FASHGRD_1': 'FASHGRD_1', 'FERC_IND': 'FERC_IND', 'FERTH': 'FERTH', 'FERTH_1': 'FERTH_1', 'FIBER_CODE1': 'FIBER_CODE1', 'FIBER_CODE1_1': 'FIBER_CODE1_1', 'FIBER_CODE2': 'FIBER_CODE2', 'FIBER_CODE2_1': 'FIBER_CODE2_1', 'FIBER_CODE3': 'FIBER_CODE3', 'FIBER_CODE3_1': 'FIBER_CODE3_1', 'FIBER_CODE4': 'FIBER_CODE4', 'FIBER_CODE4_1': 'FIBER_CODE4_1', 'FIBER_CODE5': 'FIBER_CODE5', 'FIBER_CODE5_1': 'FIBER_CODE5_1', 'FIBER_PART1': 'FIBER_PART1', 'FIBER_PART1_1': 'FIBER_PART1_1', 'FIBER_PART2': 'FIBER_PART2', 'FIBER_PART2_1': 'FIBER_PART2_1', 'FIBER_PART3': 'FIBER_PART3', 'FIBER_PART3_1': 'FIBER_PART3_1', 'FIBER_PART4': 'FIBER_PART4', 'FIBER_PART4_1': 'FIBER_PART4_1', 'FIBER_PART5': 'FIBER_PART5', 'FIBER_PART5_1': 'FIBER_PART5_1', 'FISCAL_INCENTIVE': 'FISCAL_INCENTIVE', 'FISCAL_INCENTIVE_ID': 'FISCAL_INCENTIVE_ID', 'FISTL': 'FISTL', 'FIXMG': 'FIXMG', 'FKBER': 'FKBER', 'FKREL': 'FKREL', 'FKSAA': 'FKSAA', 'FMENG': 'FMENG', 'FMFGUS_KEY': 'FMFGUS_KEY', 'FONDS': 'FONDS', 'FORMT': 'FORMT', 'FORMT_1': 'FORMT_1', 'FREE_CHAR': 'FREE_CHAR', 'FREE_CHAR_1': 'FREE_CHAR_1', 'FSH_CANDATE': 'FSH_CANDATE', 'FSH_COLLECTION': 'FSH_COLLECTION', 'FSH_CRSD': 'FSH_CRSD', 'FSH_GRID_COND_REC': 'FSH_GRID_COND_REC', 'FSH_ITEM': 'FSH_ITEM', 'FSH_ITEM_GROUP': 'FSH_ITEM_GROUP', 'FSH_MG_AT1': 'FSH_MG_AT1', 'FSH_MG_AT1_1': 'FSH_MG_AT1_1', 'FSH_MG_AT2': 'FSH_MG_AT2', 'FSH_MG_AT2_1': 'FSH_MG_AT2_1', 'FSH_MG_AT3': 'FSH_MG_AT3', 'FSH_MG_AT3_1': 'FSH_MG_AT3_1', 'FSH_PQR_UEPOS': 'FSH_PQR_UEPOS', 'FSH_PSM_PFM_SPLIT': 'FSH_PSM_PFM_SPLIT', 'FSH_SC_MID': 'FSH_SC_MID', 'FSH_SC_MID_1': 'FSH_SC_MID_1', 'FSH_SEAIM': 'FSH_SEAIM', 'FSH_SEAIM_1': 'FSH_SEAIM_1', 'FSH_SEALV': 'FSH_SEALV', 'FSH_SEALV_1': 'FSH_SEALV_1', 'FSH_SEAREF': 'FSH_SEAREF', 'FSH_SEASON': 'FSH_SEASON', 'FSH_SEASON_YEAR': 'FSH_SEASON_YEAR', 'FSH_THEME': 'FSH_THEME', 'FSH_TRANSACTION': 'FSH_TRANSACTION', 'FSH_VASREF': 'FSH_VASREF', 'FSH_VAS_PRNT_ID': 'FSH_VAS_PRNT_ID', 'FSH_VAS_REL': 'FSH_VAS_REL', 'FSSTA': 'FSSTA', 'FUELG': 'FUELG', 'FUELG_1': 'FUELG_1', 'GBSTA': 'GBSTA', 'GDS_RELEVANT': 'GDS_RELEVANT', 'GDS_RELEVANT_1': 'GDS_RELEVANT_1', 'GENNR': 'GENNR', 'GENNR_1': 'GENNR_1', 'GEWEI': 'GEWEI', 'GEWEI_1': 'GEWEI_1', 'GEWEI_2': 'GEWEI_2', 'GEWTO': 'GEWTO', 'GEWTO_1': 'GEWTO_1', 'GRANT_NBR': 'GRANT_NBR', 'GRKOR': 'GRKOR', 'GROES': 'GROES', 'GROES_1': 'GROES_1', 'GRPOS': 'GRPOS', 'GSBER': 'GSBER', 'GTIN_VARIANT': 'GTIN_VARIANT', 'GTIN_VARIANT_1': 'GTIN_VARIANT_1', 'HANDLE': 'HANDLE', 'HANDOVERDATE': 'HANDOVERDATE', 'HANDOVERLOC': 'HANDOVERLOC', 'HANDOVERTIME': 'HANDOVERTIME', 'HAZMAT': 'HAZMAT', 'HAZMAT_1': 'HAZMAT_1', 'HEIGHT_NONFLAT': 'HEIGHT_NONFLAT', 'HEIGHT_NONFLAT_1': 'HEIGHT_NONFLAT_1', 'HEIGHT_NONFLAT_UOM': 'HEIGHT_NONFLAT_UOM', 'HEIGHT_NONFLAT_UOM_1': 'HEIGHT_NONFLAT_UOM_1', 'HERKL': 'HERKL', 'HERKL_1': 'HERKL_1', 'HNDLCODE': 'HNDLCODE', 'HNDLCODE_1': 'HNDLCODE_1', 'HOEHE': 'HOEHE', 'HOEHE_1': 'HOEHE_1', 'HUTYP': 'HUTYP', 'HUTYP_1': 'HUTYP_1', 'HUTYP_DFLT': 'HUTYP_DFLT', 'HUTYP_DFLT_1': 'HUTYP_DFLT_1', 'IFRS15_RELEVANCE': 'IFRS15_RELEVANCE', 'IFRS15_TOTAL_SSP': 'IFRS15_TOTAL_SSP', 'IHIVI': 'IHIVI', 'IHIVI_1': 'IHIVI_1', 'ILOOS': 'ILOOS', 'ILOOS_1': 'ILOOS_1', 'IMATN': 'IMATN', 'IMATN_1': 'IMATN_1', 'INHAL': 'INHAL', 'INHAL_1': 'INHAL_1', 'INHBR': 'INHBR', 'INHBR_1': 'INHBR_1', 'INHME': 'INHME', 'INHME_1': 'INHME_1', 'IPMIPPRODUCT': 'IPMIPPRODUCT', 'IPMIPPRODUCT_1': 'IPMIPPRODUCT_1', 'IPRKZ': 'IPRKZ', 'IPRKZ_1': 'IPRKZ_1', 'IUID_RELEVANT': 'IUID_RELEVANT', 'J_1BCFOP': 'J_1BCFOP', 'J_1BTAXLW1': 'J_1BTAXLW1', 'J_1BTAXLW2': 'J_1BTAXLW2', 'J_1BTAXLW3': 'J_1BTAXLW3', 'J_1BTAXLW4': 'J_1BTAXLW4', 'J_1BTAXLW5': 'J_1BTAXLW5', 'J_1BTXSDC': 'J_1BTXSDC', 'J_3GBELNRI': 'J_3GBELNRI', 'J_3GDATBI': 'J_3GDATBI', 'J_3GDATVO': 'J_3GDATVO', 'J_3GLVART': 'J_3GLVART', 'J_3GPOSNRI': 'J_3GPOSNRI', 'KALNR': 'KALNR', 'KALSM_K': 'KALSM_K', 'KALVAR': 'KALVAR', 'KANNR': 'KANNR', 'KBMENG': 'KBMENG', 'KBVER': 'KBVER', 'KDMAT': 'KDMAT', 'KEVER': 'KEVER', 'KLMENG': 'KLMENG', 'KLVAR': 'KLVAR', 'KMEIN': 'KMEIN', 'KMPMG': 'KMPMG', 'KNTTP': 'KNTTP', 'KNUMA_AG': 'KNUMA_AG', 'KNUMA_PI': 'KNUMA_PI', 'KNUMH': 'KNUMH', 'KONDM': 'KONDM', 'KOSCH': 'KOSCH', 'KOSCH_1': 'KOSCH_1', 'KOSCH_2': 'KOSCH_2', 'KOSTL': 'KOSTL', 'KOUPD': 'KOUPD', 'KOWRR': 'KOWRR', 'KPEIN': 'KPEIN', 'KTGRM': 'KTGRM', 'KUNNR': 'KUNNR', 'KUNNR_1': 'KUNNR_1', 'KWMENG': 'KWMENG', 'KZBWS': 'KZBWS', 'KZEFF': 'KZEFF', 'KZEFF_1': 'KZEFF_1', 'KZFME': 'KZFME', 'KZGVH': 'KZGVH', 'KZGVH_1': 'KZGVH_1', 'KZKFG': 'KZKFG', 'KZKFG_1': 'KZKFG_1', 'KZKUP': 'KZKUP', 'KZKUP_1': 'KZKUP_1', 'KZNFM': 'KZNFM', 'KZNFM_1': 'KZNFM_1', 'KZREV': 'KZREV', 'KZREV_1': 'KZREV_1', 'KZTLF': 'KZTLF', 'KZUMW': 'KZUMW', 'KZUMW_1': 'KZUMW_1', 'KZVBR': 'KZVBR', 'KZWI1': 'KZWI1', 'KZWI2': 'KZWI2', 'KZWI3': 'KZWI3', 'KZWI4': 'KZWI4', 'KZWI5': 'KZWI5', 'KZWI6': 'KZWI6', 'KZWSM': 'KZWSM', 'KZWSM_1': 'KZWSM_1', 'LABOR': 'LABOR', 'LABOR_1': 'LABOR_1', 'LABSG': 'LABSG', 'LAEDA': 'LAEDA', 'LAEDA_1': 'LAEDA_1', 'LAENG': 'LAENG', 'LAENG_1': 'LAENG_1', 'LAST_CHANGED_TIME': 'LAST_CHANGED_TIME', 'LAST_CHANGED_TIME_1': 'LAST_CHANGED_TIME_1', 'LFGSA': 'LFGSA', 'LFMNG': 'LFMNG', 'LFREL': 'LFREL', 'LFSTA': 'LFSTA', 'LGORT': 'LGORT', 'LIQDT': 'LIQDT', 'LIQDT_1': 'LIQDT_1', 'LOGLEV_RETO': 'LOGLEV_RETO', 'LOGLEV_RETO_1': 'LOGLEV_RETO_1', 'LOGSYS_EXT': 'LOGSYS_EXT', 'LOGUNIT': 'LOGUNIT', 'LOGUNIT_1': 'LOGUNIT_1', 'LPRIO': 'LPRIO', 'LSMENG': 'LSMENG', 'LSSTA': 'LSSTA', 'LSTANR': 'LSTANR', 'LVORM': 'LVORM', 'LVORM_1': 'LVORM_1', 'MAGRV': 'MAGRV', 'MAGRV_1': 'MAGRV_1', 'MAGRV_2': 'MAGRV_2', 'MANDT': 'MANDT', 'MANDT_1': 'MANDT_1', 'MANDT_2': 'MANDT_2', 'MANEK': 'MANEK', 'MANUAL_TC_REASON': 'MANUAL_TC_REASON', 'MATFI': 'MATFI', 'MATFI_1': 'MATFI_1', 'MATKL': 'MATKL', 'MATKL_1': 'MATKL_1', 'MATKL_2': 'MATKL_2', 'MATNR': 'MATNR', 'MATNR_1': 'MATNR_1', 'MATNR_2': 'MATNR_2', 'MATNR_EXTERNAL': 'MATNR_EXTERNAL', 'MATNR_EXTERNAL_1': 'MATNR_EXTERNAL_1', 'MATWA': 'MATWA', 'MAXB': 'MAXB', 'MAXB_1': 'MAXB_1', 'MAXC': 'MAXC', 'MAXC_1': 'MAXC_1', 'MAXC_TOL': 'MAXC_TOL', 'MAXC_TOL_1': 'MAXC_TOL_1', 'MAXDIM_UOM': 'MAXDIM_UOM', 'MAXDIM_UOM_1': 'MAXDIM_UOM_1', 'MAXH': 'MAXH', 'MAXH_1': 'MAXH_1', 'MAXL': 'MAXL', 'MAXL_1': 'MAXL_1', 'MBRSH': 'MBRSH', 'MBRSH_1': 'MBRSH_1', 'MCOND': 'MCOND', 'MCOND_1': 'MCOND_1', 'MEABM': 'MEABM', 'MEABM_1': 'MEABM_1', 'MEDIUM': 'MEDIUM', 'MEDIUM_1': 'MEDIUM_1', 'MEINS': 'MEINS', 'MEINS_1': 'MEINS_1', 'MEINS_2': 'MEINS_2', 'MFRGR': 'MFRGR', 'MFRGR_1': 'MFRGR_1', 'MFRGR_2': 'MFRGR_2', 'MFRNR': 'MFRNR', 'MFRNR_1': 'MFRNR_1', 'MFRPN': 'MFRPN', 'MFRPN_1': 'MFRPN_1', 'MHDHB': 'MHDHB', 'MHDHB_1': 'MHDHB_1', 'MHDLP': 'MHDLP', 'MHDLP_1': 'MHDLP_1', 'MHDRZ': 'MHDRZ', 'MHDRZ_1': 'MHDRZ_1', 'MILL_BATCH_SEL_F': 'MILL_BATCH_SEL_F', 'MILL_SE_GPOSN': 'MILL_SE_GPOSN', 'MLGUT': 'MLGUT', 'MLGUT_1': 'MLGUT_1', 'MOD_ALLOW': 'MOD_ALLOW', 'MO_PROFILE_ID': 'MO_PROFILE_ID', 'MO_PROFILE_ID_1': 'MO_PROFILE_ID_1', 'MPROF': 'MPROF', 'MPROF_1': 'MPROF_1', 'MPROK': 'MPROK', 'MSBOOKPARTNO': 'MSBOOKPARTNO', 'MSBOOKPARTNO_1': 'MSBOOKPARTNO_1', 'MSR_APPROV_BLOCK': 'MSR_APPROV_BLOCK', 'MSR_REFUND_CODE': 'MSR_REFUND_CODE', 'MSR_RET_REASON': 'MSR_RET_REASON', 'MSTAE': 'MSTAE', 'MSTAE_1': 'MSTAE_1', 'MSTAV': 'MSTAV', 'MSTAV_1': 'MSTAV_1', 'MSTDE': 'MSTDE', 'MSTDE_1': 'MSTDE_1', 'MSTDV': 'MSTDV', 'MSTDV_1': 'MSTDV_1', 'MTART': 'MTART', 'MTART_1': 'MTART_1', 'MTPOS_MARA': 'MTPOS_MARA', 'MTPOS_MARA_1': 'MTPOS_MARA_1', 'MTVFP': 'MTVFP', 'MVGR1': 'MVGR1', 'MVGR2': 'MVGR2', 'MVGR3': 'MVGR3', 'MVGR4': 'MVGR4', 'MVGR5': 'MVGR5', 'MWSBP': 'MWSBP', 'NACHL': 'NACHL', 'NETPR': 'NETPR', 'NETWR': 'NETWR', 'NORMT': 'NORMT', 'NORMT_1': 'NORMT_1', 'NRAB_KNUMH': 'NRAB_KNUMH', 'NRFHG': 'NRFHG', 'NRFHG_1': 'NRFHG_1', 'NSNID': 'NSNID', 'NSNID_1': 'NSNID_1', 'NTGEW': 'NTGEW', 'NTGEW_1': 'NTGEW_1', 'NTGEW_2': 'NTGEW_2', 'NUMTP': 'NUMTP', 'NUMTP_1': 'NUMTP_1', 'OBJNR': 'OBJNR', 'ORIGINAL_PLANT': 'ORIGINAL_PLANT', 'OVERHANG_TRESH': 'OVERHANG_TRESH', 'OVERHANG_TRESH_1': 'OVERHANG_TRESH_1', 'OVLPN': 'OVLPN', 'OVLPN_1': 'OVLPN_1', 'PACKCODE': 'PACKCODE', 'PACKCODE_1': 'PACKCODE_1', 'PAOBJNR': 'PAOBJNR', 'PARGB': 'PARGB', 'PAY_METHOD': 'PAY_METHOD', 'PBS_STATE': 'PBS_STATE', 'PCSTA': 'PCSTA', 'PCTRF': 'PCTRF', 'PICNUM': 'PICNUM', 'PICNUM_1': 'PICNUM_1', 'PILFERABLE': 'PILFERABLE', 'PILFERABLE_1': 'PILFERABLE_1', 'PLAVO': 'PLAVO', 'PLGTP': 'PLGTP', 'PLGTP_1': 'PLGTP_1', 'PMATA': 'PMATA', 'PMATA_1': 'PMATA_1', 'PMATN': 'PMATN', 'POSAR': 'POSAR', 'POSEX': 'POSEX', 'POSNR': 'POSNR', 'POSNV': 'POSNV', 'PO_QUAN': 'PO_QUAN', 'PO_UNIT': 'PO_UNIT', 'PRBME': 'PRBME', 'PRCTR': 'PRCTR', 'PRDHA': 'PRDHA', 'PRDHA_1': 'PRDHA_1', 'PREFE': 'PREFE', 'PRODH': 'PRODH', 'PROD_SHAPE': 'PROD_SHAPE', 'PROD_SHAPE_1': 'PROD_SHAPE_1', 'PROFL': 'PROFL', 'PROFL_1': 'PROFL_1', 'PROSA': 'PROSA', 'PROVG': 'PROVG', 'PRSOK': 'PRSOK', 'PRS_OBJNR': 'PRS_OBJNR', 'PRS_SD_SPSNR': 'PRS_SD_SPSNR', 'PRS_WORK_PERIOD': 'PRS_WORK_PERIOD', 'PRZUS': 'PRZUS', 'PRZUS_1': 'PRZUS_1', 'PR_F_F': 'PR_F_F', 'PR_F_L': 'PR_F_L', 'PR_L_L': 'PR_L_L', 'PSM_CODE': 'PSM_CODE', 'PSM_CODE_1': 'PSM_CODE_1', 'PSTAT': 'PSTAT', 'PSTAT_1': 'PSTAT_1', 'PSTYV': 'PSTYV', 'PS_PSP_PNR': 'PS_PSP_PNR', 'PS_SMARTFORM': 'PS_SMARTFORM', 'PS_SMARTFORM_1': 'PS_SMARTFORM_1', 'QGRP': 'QGRP', 'QGRP_1': 'QGRP_1', 'QMPUR': 'QMPUR', 'QMPUR_1': 'QMPUR_1', 'QQTIME': 'QQTIME', 'QQTIMEUOM': 'QQTIMEUOM', 'QQTIMEUOM_1': 'QQTIMEUOM_1', 'QQTIME_1': 'QQTIME_1', 'RAUBE': 'RAUBE', 'RAUBE_1': 'RAUBE_1', 'RBNRM': 'RBNRM', 'RBNRM_1': 'RBNRM_1', 'RDMHD': 'RDMHD', 'RDMHD_1': 'RDMHD_1', 'REP_FREQ': 'REP_FREQ', 'REQQTY_BU': 'REQQTY_BU', 'RETDELC': 'RETDELC', 'RETDELC_1': 'RETDELC_1', 'REVACC_REFID': 'REVACC_REFID', 'REVACC_REFTYPE': 'REVACC_REFTYPE', 'REVFP': 'REVFP', 'RFGSA': 'RFGSA', 'RFM_PSST_GROUP': 'RFM_PSST_GROUP', 'RFM_PSST_RULE': 'RFM_PSST_RULE', 'RFSTA': 'RFSTA', 'RKFKF': 'RKFKF', 'RMATP': 'RMATP', 'RMATP_1': 'RMATP_1', 'RMATP_PB': 'RMATP_PB', 'RMATP_PB_1': 'RMATP_PB_1', 'ROUTE': 'ROUTE', 'SAISJ': 'SAISJ', 'SAISJ_1': 'SAISJ_1', 'SAISO': 'SAISO', 'SAISO_1': 'SAISO_1', 'SAITY': 'SAITY', 'SAITY_1': 'SAITY_1', 'SATNR': 'SATNR', 'SATNR_1': 'SATNR_1', 'SCM_MATID_GUID16': 'SCM_MATID_GUID16', 'SCM_MATID_GUID16_1': 'SCM_MATID_GUID16_1', 'SCM_MATID_GUID22': 'SCM_MATID_GUID22', 'SCM_MATID_GUID22_1': 'SCM_MATID_GUID22_1', 'SCM_MATURITY_DUR': 'SCM_MATURITY_DUR', 'SCM_MATURITY_DUR_1': 'SCM_MATURITY_DUR_1', 'SCM_PUOM': 'SCM_PUOM', 'SCM_PUOM_1': 'SCM_PUOM_1', 'SCM_SHLF_LFE_REQ_MAX': 'SCM_SHLF_LFE_REQ_MAX', 'SCM_SHLF_LFE_REQ_MAX_1': 'SCM_SHLF_LFE_REQ_MAX_1', 'SCM_SHLF_LFE_REQ_MIN': 'SCM_SHLF_LFE_REQ_MIN', 'SCM_SHLF_LFE_REQ_MIN_1': 'SCM_SHLF_LFE_REQ_MIN_1', 'SERAIL': 'SERAIL', 'SERIAL': 'SERIAL', 'SERIAL_1': 'SERIAL_1', 'SERLV': 'SERLV', 'SERLV_1': 'SERLV_1', 'SERNR': 'SERNR', 'SESSION_CREATION_DATE': 'SESSION_CREATION_DATE', 'SESSION_CREATION_TIME': 'SESSION_CREATION_TIME', 'SGT_COVSA': 'SGT_COVSA', 'SGT_COVSA_1': 'SGT_COVSA_1', 'SGT_CSGR': 'SGT_CSGR', 'SGT_CSGR_1': 'SGT_CSGR_1', 'SGT_RCAT': 'SGT_RCAT', 'SGT_REL': 'SGT_REL', 'SGT_REL_1': 'SGT_REL_1', 'SGT_SCOPE': 'SGT_SCOPE', 'SGT_SCOPE_1': 'SGT_SCOPE_1', 'SGT_STAT': 'SGT_STAT', 'SGT_STAT_1': 'SGT_STAT_1', 'SHKZG': 'SHKZG', 'SIZE1': 'SIZE1', 'SIZE1_1': 'SIZE1_1', 'SIZE1_ATINN': 'SIZE1_ATINN', 'SIZE1_ATINN_1': 'SIZE1_ATINN_1', 'SIZE2': 'SIZE2', 'SIZE2_1': 'SIZE2_1', 'SIZE2_ATINN': 'SIZE2_ATINN', 'SIZE2_ATINN_1': 'SIZE2_ATINN_1', 'SKOPF': 'SKOPF', 'SKTOF': 'SKTOF', 'SLCST': 'SLCST', 'SLED_BBD': 'SLED_BBD', 'SLED_BBD_1': 'SLED_BBD_1', 'SLOCTYPE': 'SLOCTYPE', 'SMENG': 'SMENG', 'SOBKZ': 'SOBKZ', 'SOM_CYCLE': 'SOM_CYCLE', 'SOM_CYCLE_1': 'SOM_CYCLE_1', 'SOM_CYCLE_RULE': 'SOM_CYCLE_RULE', 'SOM_CYCLE_RULE_1': 'SOM_CYCLE_RULE_1', 'SOM_TC_SCHEMA': 'SOM_TC_SCHEMA', 'SOM_TC_SCHEMA_1': 'SOM_TC_SCHEMA_1', 'SPART': 'SPART', 'SPART_1': 'SPART_1', 'SPART_2': 'SPART_2', 'SPCSTO': 'SPCSTO', 'SPOSN': 'SPOSN', 'SPROF': 'SPROF', 'SPROF_1': 'SPROF_1', 'SRV_DURA': 'SRV_DURA', 'SRV_DURA_1': 'SRV_DURA_1', 'SRV_DURA_UOM': 'SRV_DURA_UOM', 'SRV_DURA_UOM_1': 'SRV_DURA_UOM_1', 'SRV_ESCAL': 'SRV_ESCAL', 'SRV_ESCAL_1': 'SRV_ESCAL_1', 'SRV_SERWI': 'SRV_SERWI', 'SRV_SERWI_1': 'SRV_SERWI_1', 'STADAT': 'STADAT', 'STAFO': 'STAFO', 'STCUR': 'STCUR', 'STDAT': 'STDAT', 'STFAK': 'STFAK', 'STFAK_1': 'STFAK_1', 'STKEY': 'STKEY', 'STLKN': 'STLKN', 'STLNR': 'STLNR', 'STLTY': 'STLTY', 'STMAN': 'STMAN', 'STOCKLOC': 'STOCKLOC', 'STOFF': 'STOFF', 'STOFF_1': 'STOFF_1', 'STPOS': 'STPOS', 'STPOZ': 'STPOZ', 'SUGRD': 'SUGRD', 'SUMBD': 'SUMBD', 'TAKLV': 'TAKLV', 'TAKLV_1': 'TAKLV_1', 'TARE_VAR': 'TARE_VAR', 'TARE_VAR_1': 'TARE_VAR_1', 'TAS': 'TAS', 'TAXM1': 'TAXM1', 'TAXM2': 'TAXM2', 'TAXM3': 'TAXM3', 'TAXM4': 'TAXM4', 'TAXM5': 'TAXM5', 'TAXM6': 'TAXM6', 'TAXM7': 'TAXM7', 'TAXM8': 'TAXM8', 'TAXM9': 'TAXM9', 'TAX_SUBJECT_ST': 'TAX_SUBJECT_ST', 'TC_AUT_DET': 'TC_AUT_DET', 'TECHS': 'TECHS', 'TEMPB': 'TEMPB', 'TEMPB_1': 'TEMPB_1', 'TEXTILE_COMP_IND': 'TEXTILE_COMP_IND', 'TEXTILE_COMP_IND_1': 'TEXTILE_COMP_IND_1', 'TOTAL_LCCST': 'TOTAL_LCCST', 'TRAGR': 'TRAGR', 'TRAGR_1': 'TRAGR_1', 'TRMRISK_RELEVANT': 'TRMRISK_RELEVANT', 'UEBTK': 'UEBTK', 'UEBTO': 'UEBTO', 'UEPOS': 'UEPOS', 'UEPVW': 'UEPVW', 'UKONM': 'UKONM', 'UMREF': 'UMREF', 'UMVKN': 'UMVKN', 'UMVKZ': 'UMVKZ', 'UMZIN': 'UMZIN', 'UMZIZ': 'UMZIZ', 'UNTTO': 'UNTTO', 'UPFLU': 'UPFLU', 'UPMAT': 'UPMAT', 'UVALL': 'UVALL', 'UVFAK': 'UVFAK', 'UVP01': 'UVP01', 'UVP02': 'UVP02', 'UVP03': 'UVP03', 'UVP04': 'UVP04', 'UVP05': 'UVP05', 'UVPRS': 'UVPRS', 'UVVLK': 'UVVLK', 'VABME': 'VABME', 'VABME_1': 'VABME_1', 'VARID': 'VARID', 'VARID_1': 'VARID_1', 'VBEAF': 'VBEAF', 'VBEAV': 'VBEAV', 'VBELN': 'VBELN', 'VBELV': 'VBELV', 'VBKD_POSNR': 'VBKD_POSNR', 'VEDA_POSNR': 'VEDA_POSNR', 'VGBEL': 'VGBEL', 'VGPOS': 'VGPOS', 'VGREF': 'VGREF', 'VGTYP': 'VGTYP', 'VHART': 'VHART', 'VHART_1': 'VHART_1', 'VKAUS': 'VKAUS', 'VKGRU': 'VKGRU', 'VLCENDCU': 'VLCENDCU', 'VOLEH': 'VOLEH', 'VOLEH_1': 'VOLEH_1', 'VOLEH_2': 'VOLEH_2', 'VOLTO': 'VOLTO', 'VOLTO_1': 'VOLTO_1', 'VOLUM': 'VOLUM', 'VOLUM_1': 'VOLUM_1', 'VOLUM_2': 'VOLUM_2', 'VOREF': 'VOREF', 'VPMAT': 'VPMAT', 'VPREH': 'VPREH', 'VPREH_1': 'VPREH_1', 'VPSTA': 'VPSTA', 'VPSTA_1': 'VPSTA_1', 'VPWRK': 'VPWRK', 'VPZUO': 'VPZUO', 'VRKME': 'VRKME', 'VSTEL': 'VSTEL', 'WAERK': 'WAERK', 'WAVWR': 'WAVWR', 'WBSTA': 'WBSTA', 'WEORA': 'WEORA', 'WEORA_1': 'WEORA_1', 'WERKS': 'WERKS', 'WESCH': 'WESCH', 'WESCH_1': 'WESCH_1', 'WGRU1': 'WGRU1', 'WGRU2': 'WGRU2', 'WHMATGR': 'WHMATGR', 'WHMATGR_1': 'WHMATGR_1', 'WHSTC': 'WHSTC', 'WHSTC_1': 'WHSTC_1', 'WKTNR': 'WKTNR', 'WKTPS': 'WKTPS', 'WRF_CHARSTC1': 'WRF_CHARSTC1', 'WRF_CHARSTC2': 'WRF_CHARSTC2', 'WRF_CHARSTC3': 'WRF_CHARSTC3', 'WRKST': 'WRKST', 'WRKST_1': 'WRKST_1', 'WTYSC_CLMITEM': 'WTYSC_CLMITEM', 'XCHAR': 'XCHAR', 'XCHPF': 'XCHPF', 'XCHPF_1': 'XCHPF_1', 'XCHPF_2': 'XCHPF_2', 'XGCHP': 'XGCHP', 'XGCHP_1': 'XGCHP_1', 'XGRDT': 'XGRDT', 'XGRDT_1': 'XGRDT_1', 'ZABDATI': 'ZABDATI', 'ZAPCGKI': 'ZAPCGKI', 'ZEIAR': 'ZEIAR', 'ZEIAR_1': 'ZEIAR_1', 'ZEIFO': 'ZEIFO', 'ZEIFO_1': 'ZEIFO_1', 'ZEINR': 'ZEINR', 'ZEINR_1': 'ZEINR_1', 'ZEIVR': 'ZEIVR', 'ZEIVR_1': 'ZEIVR_1', 'ZIEME': 'ZIEME', 'ZMENG': 'ZMENG', 'ZSCHL_K': 'ZSCHL_K', 'ZWERT': 'ZWERT', 'ZZ1_CUSTOMFIELDHIGHRIS_PRD': 'ZZ1_CUSTOMFIELDHIGHRIS_PRD', 'ZZ1_CUSTOMFIELDHIGHRIS_PRD_1': 'ZZ1_CUSTOMFIELDHIGHRIS_PRD_1', 'ZZ1_CUSTOMFIELDRISKMIT_PRD': 'ZZ1_CUSTOMFIELDRISKMIT_PRD', 'ZZ1_CUSTOMFIELDRISKMIT_PRD_1': 'ZZ1_CUSTOMFIELDRISKMIT_PRD_1', '_BEV1_LULDEGRP': '_BEV1_LULDEGRP', '_BEV1_LULDEGRP_1': '_BEV1_LULDEGRP_1', '_BEV1_LULEINH': '_BEV1_LULEINH', 'ZZ1_CUSTOMFIELDRISKREA_PRD': 'ZZ1_CUSTOMFIELDRISKREA_PRD', 'ZZ1_CUSTOMFIELDRISKREA_PRD_1': 'ZZ1_CUSTOMFIELDRISKREA_PRD_1', '_BEV1_LULEINH_1': '_BEV1_LULEINH_1', '_BEV1_NESTRUCCAT': '_BEV1_NESTRUCCAT', '_BEV1_NESTRUCCAT_1': '_BEV1_NESTRUCCAT_1', '_CWM_TARA': '_CWM_TARA', '_CWM_TARA_1': '_CWM_TARA_1', '_CWM_TARUM': '_CWM_TARUM', '_CWM_TARUM_1': '_CWM_TARUM_1', '_CWM_TOLGR': '_CWM_TOLGR', '_CWM_TOLGR_1': '_CWM_TOLGR_1', '_CWM_VALUM': '_CWM_VALUM', '_CWM_VALUM_1': '_CWM_VALUM_1', '_CWM_XCWMAT': '_CWM_XCWMAT', '_CWM_XCWMAT_1': '_CWM_XCWMAT_1', '_DATAAGING': '_DATAAGING', '_DSD_SL_TOLTYP': '_DSD_SL_TOLTYP', '_DSD_SL_TOLTYP_1': '_DSD_SL_TOLTYP_1', '_DSD_SV_CNT_GRP': '_DSD_SV_CNT_GRP', '_DSD_SV_CNT_GRP_1': '_DSD_SV_CNT_GRP_1', '_DSD_VC_GROUP': '_DSD_VC_GROUP', '_DSD_VC_GROUP_1': '_DSD_VC_GROUP_1', '_SAPMP_ABMEIN': '_SAPMP_ABMEIN', '_SAPMP_ABMEIN_1': '_SAPMP_ABMEIN_1', '_SAPMP_AHO': '_SAPMP_AHO', '_SAPMP_AHO_1': '_SAPMP_AHO_1', '_SAPMP_BRAD': '_SAPMP_BRAD', '_SAPMP_BRAD_1': '_SAPMP_BRAD_1', '_SAPMP_FBAK': '_SAPMP_FBAK', '_SAPMP_FBAK_1': '_SAPMP_FBAK_1', '_SAPMP_FBDK': '_SAPMP_FBDK', '_SAPMP_FBDK_1': '_SAPMP_FBDK_1', '_SAPMP_FBHK': '_SAPMP_FBHK', '_SAPMP_FBHK_1': '_SAPMP_FBHK_1', '_SAPMP_KADP': '_SAPMP_KADP', '_SAPMP_KADP_1': '_SAPMP_KADP_1', '_SAPMP_KADU': '_SAPMP_KADU', '_SAPMP_KADU_1': '_SAPMP_KADU_1', '_SAPMP_KEDU': '_SAPMP_KEDU', '_SAPMP_KEDU_1': '_SAPMP_KEDU_1', '_SAPMP_MIFRR': '_SAPMP_MIFRR', '_SAPMP_MIFRR_1': '_SAPMP_MIFRR_1', '_SAPMP_RILI': '_SAPMP_RILI', '_SAPMP_RILI_1': '_SAPMP_RILI_1', '_SAPMP_SPBI': '_SAPMP_SPBI', '_SAPMP_SPBI_1': '_SAPMP_SPBI_1', '_SAPMP_SPTR': '_SAPMP_SPTR', '_SAPMP_SPTR_1': '_SAPMP_SPTR_1', '_SAPMP_TRAD': '_SAPMP_TRAD', '_SAPMP_TRAD_1': '_SAPMP_TRAD_1', '_VSO_R_BOT_IND': '_VSO_R_BOT_IND', '_VSO_R_BOT_IND_1': '_VSO_R_BOT_IND_1', '_VSO_R_KZGVH_IND': '_VSO_R_KZGVH_IND', '_VSO_R_KZGVH_IND_1': '_VSO_R_KZGVH_IND_1', '_VSO_R_NO_P_GVH': '_VSO_R_NO_P_GVH', '_VSO_R_NO_P_GVH_1': '_VSO_R_NO_P_GVH_1', '_VSO_R_PAL_B_HT': '_VSO_R_PAL_B_HT', '_VSO_R_PAL_B_HT_1': '_VSO_R_PAL_B_HT_1', '_VSO_R_PAL_IND': '_VSO_R_PAL_IND', '_VSO_R_PAL_IND_1': '_VSO_R_PAL_IND_1', '_VSO_R_PAL_MIN_H': '_VSO_R_PAL_MIN_H', '_VSO_R_PAL_MIN_H_1': '_VSO_R_PAL_MIN_H_1', '_VSO_R_PAL_OVR_D': '_VSO_R_PAL_OVR_D', '_VSO_R_PAL_OVR_D_1': '_VSO_R_PAL_OVR_D_1', '_VSO_R_PAL_OVR_W': '_VSO_R_PAL_OVR_W', '_VSO_R_PAL_OVR_W_1': '_VSO_R_PAL_OVR_W_1', '_VSO_R_QUAN_UNIT': '_VSO_R_QUAN_UNIT', '_VSO_R_QUAN_UNIT_1': '_VSO_R_QUAN_UNIT_1', '_VSO_R_STACK_IND': '_VSO_R_STACK_IND', '_VSO_R_STACK_IND_1': '_VSO_R_STACK_IND_1', '_VSO_R_STACK_NO': '_VSO_R_STACK_NO', '_VSO_R_STACK_NO_1': '_VSO_R_STACK_NO_1', '_VSO_R_TILT_IND': '_VSO_R_TILT_IND', '_VSO_R_TILT_IND_1': '_VSO_R_TILT_IND_1', '_VSO_R_TOL_B_HT': '_VSO_R_TOL_B_HT', '_VSO_R_TOL_B_HT_1': '_VSO_R_TOL_B_HT_1', '_VSO_R_TOP_IND': '_VSO_R_TOP_IND', '_VSO_R_TOP_IND_1': '_VSO_R_TOP_IND_1'}\n"
     ]
    }
   ],
   "source": [
    "print(mapping)"
   ]
  },
  {
   "cell_type": "code",
   "execution_count": 32,
   "metadata": {},
   "outputs": [],
   "source": [
    "subscription_id = '938ace66-9598-4029-b6bb-429929b03761'\n",
    "rg_name = 'celebal_rnd'\n",
    "df_name = 'celebaladf'\n",
    "client_id = 'b628371b-654f-4848-b214-c8553f2fc665' \n",
    "secret = '/JCA4now2LAn1/L4aa+ICfmTumPRryW.'\n",
    "tenant = 'e4e34038-ea1f-4882-b6e8-ccd776459ca0'\n",
    "rg_params = {'location':'eastus'}\n",
    "df_params = {'location':'eastus'}"
   ]
  },
  {
   "cell_type": "code",
   "execution_count": 63,
   "metadata": {},
   "outputs": [
    {
     "name": "stdout",
     "output_type": "stream",
     "text": [
      "Replicating SAP Source\n",
      "Connecting to DB\n",
      "Temp/VBAP_DEMO\n"
     ]
    }
   ],
   "source": [
    "try:\n",
    "    replicate_sap_source(schema=schema,source=source,source_type=source_type)\n",
    "except Exception as e:\n",
    "    print(e)"
   ]
  },
  {
   "cell_type": "code",
   "execution_count": 64,
   "metadata": {},
   "outputs": [],
   "source": [
    "# Specify your AD client ID, client secret, and tenant ID\n",
    "credentials = ServicePrincipalCredentials(client_id=client_id, secret=secret, tenant=tenant)\n",
    "resource_client = ResourceManagementClient(credentials, subscription_id)\n",
    "adf_client = DataFactoryManagementClient(credentials, subscription_id)"
   ]
  },
  {
   "cell_type": "code",
   "execution_count": 65,
   "metadata": {},
   "outputs": [],
   "source": [
    "ds_name = 'RelationalTable1'\n",
    "dsOut_name = 'sap_hana_db'"
   ]
  },
  {
   "cell_type": "code",
   "execution_count": 66,
   "metadata": {},
   "outputs": [],
   "source": [
    "source_ds = adf_client.datasets.get(dataset_name=ds_name,resource_group_name=rg_name,factory_name=df_name)\n",
    "destination_ds = adf_client.datasets.get(dataset_name=dsOut_name,resource_group_name=rg_name,factory_name=df_name)"
   ]
  },
  {
   "cell_type": "code",
   "execution_count": 67,
   "metadata": {},
   "outputs": [
    {
     "name": "stdout",
     "output_type": "stream",
     "text": [
      "{'additional_properties': {}, 'id': '/subscriptions/938ace66-9598-4029-b6bb-429929b03761/resourceGroups/celebal_rnd/providers/Microsoft.DataFactory/factories/celebaladf/datasets/RelationalTable1', 'name': 'RelationalTable1', 'type': 'Microsoft.DataFactory/factories/datasets', 'etag': '0600e2b3-0000-0100-0000-5cebc8c20000', 'properties': <azure.mgmt.datafactory.models.relational_table_dataset.RelationalTableDataset object at 0x7fa1674ee198>}\n"
     ]
    }
   ],
   "source": [
    "print(source_ds)"
   ]
  },
  {
   "cell_type": "code",
   "execution_count": 68,
   "metadata": {},
   "outputs": [
    {
     "name": "stdout",
     "output_type": "stream",
     "text": [
      "{'additional_properties': {}, 'id': '/subscriptions/938ace66-9598-4029-b6bb-429929b03761/resourceGroups/celebal_rnd/providers/Microsoft.DataFactory/factories/celebaladf/datasets/sap_hana_db', 'name': 'sap_hana_db', 'type': 'Microsoft.DataFactory/factories/datasets', 'etag': '0600e1b3-0000-0100-0000-5cebc8c20000', 'properties': <azure.mgmt.datafactory.models.azure_sql_table_dataset.AzureSqlTableDataset object at 0x7fa1674e5828>}\n"
     ]
    }
   ],
   "source": [
    "print(destination_ds)"
   ]
  },
  {
   "cell_type": "code",
   "execution_count": 69,
   "metadata": {},
   "outputs": [],
   "source": [
    "source_type = RelationalSource(query=make_source_query(mapping=mapping,source_name=source,schema=schema))#query to select columns\n",
    "destination_type = SqlSink()\n",
    "#pre_copy_script=make_precopy_script(sql_table)"
   ]
  },
  {
   "cell_type": "code",
   "execution_count": 72,
   "metadata": {},
   "outputs": [],
   "source": [
    "dsin_ref = DatasetReference(ds_name)\n",
    "dsOut_ref = DatasetReference(dsOut_name,parameters={\n",
    "    \"TABLENAME\":f\"[dbo].[{sql_table}]\"\n",
    "})"
   ]
  },
  {
   "cell_type": "code",
   "execution_count": 75,
   "metadata": {},
   "outputs": [],
   "source": [
    "trans = make_translator(schema=schema,sourcename=source,istable=istable,use_default_mapping=True)"
   ]
  },
  {
   "cell_type": "code",
   "execution_count": 76,
   "metadata": {},
   "outputs": [],
   "source": [
    "copy_activity = CopyActivity('SAP HANA TO SQL DBtest',inputs=[dsin_ref], outputs=[dsOut_ref],source=source_type, sink=destination_type,translator=trans)\n",
    "p_name = 'saphanatest'\n",
    "p_obj = PipelineResource(activities=[copy_activity])\n",
    "p = adf_client.pipelines.create_or_update(rg_name, df_name, p_name, p_obj)"
   ]
  },
  {
   "cell_type": "code",
   "execution_count": null,
   "metadata": {},
   "outputs": [],
   "source": []
  }
 ],
 "metadata": {
  "kernelspec": {
   "display_name": "Python 3",
   "language": "python",
   "name": "python3"
  },
  "language_info": {
   "codemirror_mode": {
    "name": "ipython",
    "version": 3
   },
   "file_extension": ".py",
   "mimetype": "text/x-python",
   "name": "python",
   "nbconvert_exporter": "python",
   "pygments_lexer": "ipython3",
   "version": "3.6.7"
  }
 },
 "nbformat": 4,
 "nbformat_minor": 2
}
