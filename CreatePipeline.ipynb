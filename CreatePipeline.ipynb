{
 "cells": [
  {
   "cell_type": "code",
   "execution_count": 1,
   "metadata": {},
   "outputs": [],
   "source": [
    "from azure.common.credentials import ServicePrincipalCredentials\n",
    "from azure.mgmt.resource import ResourceManagementClient\n",
    "from azure.mgmt.datafactory import DataFactoryManagementClient\n",
    "from azure.mgmt.datafactory.models import *\n",
    "from datetime import datetime, timedelta\n",
    "import time\n",
    "import json"
   ]
  },
  {
   "cell_type": "code",
   "execution_count": 2,
   "metadata": {},
   "outputs": [],
   "source": [
    "def print_item(group):\n",
    "    \"\"\"Print an Azure object instance.\"\"\"\n",
    "    print(\"\\tName: {}\".format(group.name))\n",
    "    print(\"\\tId: {}\".format(group.id))\n",
    "    if hasattr(group, 'location'):\n",
    "        print(\"\\tLocation: {}\".format(group.location))\n",
    "    if hasattr(group, 'tags'):\n",
    "        print(\"\\tTags: {}\".format(group.tags))\n",
    "    if hasattr(group, 'properties'):\n",
    "        print_properties(group.properties)\n",
    "\n",
    "def print_properties(props):\n",
    "    \"\"\"Print a ResourceGroup properties instance.\"\"\"\n",
    "    if props and hasattr(props, 'provisioning_state') and props.provisioning_state:\n",
    "        print(\"\\tProperties:\")\n",
    "        print(\"\\t\\tProvisioning State: {}\".format(props.provisioning_state))\n",
    "    print(\"\\n\\n\")\n",
    "\n",
    "def print_activity_run_details(activity_run):\n",
    "    \"\"\"Print activity run details.\"\"\"\n",
    "    print(\"\\n\\tActivity run details\\n\")\n",
    "    print(\"\\tActivity run status: {}\".format(activity_run.status))\n",
    "    if activity_run.status == 'Succeeded':\n",
    "        print(\"\\tNumber of bytes read: {}\".format(activity_run.output['dataRead']))\n",
    "        print(\"\\tNumber of bytes written: {}\".format(activity_run.output['dataWritten']))\n",
    "        print(\"\\tCopy duration: {}\".format(activity_run.output['copyDuration']))\n",
    "    else:\n",
    "        print(\"\\tErrors: {}\".format(activity_run.error['message']))"
   ]
  },
  {
   "cell_type": "code",
   "execution_count": 4,
   "metadata": {},
   "outputs": [],
   "source": [
    "settings = json.load(open('local.settings.json'))"
   ]
  },
  {
   "cell_type": "code",
   "execution_count": 5,
   "metadata": {},
   "outputs": [],
   "source": [
    "subscription_id = '16be532f-d207-4d70-966d-c6ba9ad7d410'\n",
    "client_id = '7803dca6-c96e-421e-bfda-c9299d62386c' \n",
    "secret = 'b[5qDh4kNNlXxKokX2A?M3?WCsQZ?hMA'\n",
    "tenant = 'e4e34038-ea1f-4882-b6e8-ccd776459ca0'\n",
    "\n",
    "rg_params = {'location':'centralus'}\n",
    "df_params = {'location':'eastus'}\n",
    "\n",
    "blob_path= 'mycontainer'\n",
    "blob_filename = 'TimeSeriesData.csv'\n",
    "rg_name = 'DF-BlobAutomation'\n",
    "df_name = 'automated-df'\n",
    "table_name = 'automatedcsv'"
   ]
  },
  {
   "cell_type": "code",
   "execution_count": 6,
   "metadata": {},
   "outputs": [],
   "source": [
    "credentials = ServicePrincipalCredentials(client_id=client_id, secret=secret, tenant=tenant)\n",
    "resource_client = ResourceManagementClient(credentials, subscription_id)\n",
    "adf_client = DataFactoryManagementClient(credentials, subscription_id)"
   ]
  },
  {
   "cell_type": "markdown",
   "metadata": {},
   "source": [
    "## Create Blob Linked Service"
   ]
  },
  {
   "cell_type": "code",
   "execution_count": 7,
   "metadata": {},
   "outputs": [],
   "source": [
    "ls_name = 'storageLinkedService'\n",
    "storage_string = SecureString(settings['Values']['blob_con_string'])\n",
    "ls_azure_storage = AzureStorageLinkedService(connection_string=storage_string)\n",
    "blob_ls = adf_client.linked_services.create_or_update(rg_name, df_name, ls_name, ls_azure_storage)"
   ]
  },
  {
   "cell_type": "markdown",
   "metadata": {},
   "source": [
    "## Create SQL Linked Service"
   ]
  },
  {
   "cell_type": "code",
   "execution_count": 8,
   "metadata": {},
   "outputs": [],
   "source": [
    "sql_ls_name = 'sqlLinkedService'\n",
    "sql_string = SecureString(settings['Values']['sql_ls_string'])\n",
    "ls_azure_sql = AzureSqlDatabaseLinkedService(connection_string=sql_string)\n",
    "sql_ls = adf_client.linked_services.create_or_update(rg_name, df_name, sql_ls_name, ls_azure_sql)"
   ]
  },
  {
   "cell_type": "markdown",
   "metadata": {},
   "source": [
    "## Create Azure Blob Dataset"
   ]
  },
  {
   "cell_type": "code",
   "execution_count": 9,
   "metadata": {},
   "outputs": [],
   "source": [
    "ds_name = 'ds_in'\n",
    "csv_format = TextFormat(column_delimiter=',',first_row_as_header=True)\n",
    "ds_ls = LinkedServiceReference(ls_name)\n",
    "ds_azure_blob= AzureBlobDataset(ds_ls, folder_path=blob_path,file_name = blob_filename,format=csv_format)\n",
    "ds = adf_client.datasets.create_or_update(rg_name, df_name, ds_name, ds_azure_blob)"
   ]
  },
  {
   "cell_type": "markdown",
   "metadata": {},
   "source": [
    "## Create SQL Dataset"
   ]
  },
  {
   "cell_type": "code",
   "execution_count": 10,
   "metadata": {},
   "outputs": [],
   "source": [
    "\n",
    "dsOut_name = 'ds_out'\n",
    "sql_ls_ref = LinkedServiceReference(sql_ls_name)"
   ]
  },
  {
   "cell_type": "code",
   "execution_count": 11,
   "metadata": {},
   "outputs": [],
   "source": [
    "dsOut_azure_sql = AzureSqlTableDataset(linked_service_name=sql_ls_ref,table_name=table_name)\n",
    "dsOut = adf_client.datasets.create_or_update(rg_name, df_name, dsOut_name, dsOut_azure_sql)"
   ]
  },
  {
   "cell_type": "code",
   "execution_count": 13,
   "metadata": {},
   "outputs": [
    {
     "data": {
      "text/plain": [
       "{'linked_service_name': {'type': 'LinkedServiceReference',\n",
       "  'reference_name': 'sqlLinkedService'},\n",
       " 'type': 'AzureSqlTable',\n",
       " 'table_name': 'automatedcsv'}"
      ]
     },
     "execution_count": 13,
     "metadata": {},
     "output_type": "execute_result"
    }
   ],
   "source": [
    "dsOut_azure_sql.as_dict()"
   ]
  },
  {
   "cell_type": "code",
   "execution_count": 11,
   "metadata": {},
   "outputs": [],
   "source": [
    "# Create a copy activity\n",
    "act_name = 'blobToSQL'\n",
    "blob_source = BlobSource()\n",
    "blob_sink = SqlSink()\n",
    "dsin_ref = DatasetReference(ds_name)\n",
    "dsOut_ref = DatasetReference(dsOut_name)\n",
    "copy_activity = CopyActivity(act_name,inputs=[dsin_ref], outputs=[dsOut_ref], source=blob_source, sink=blob_sink)"
   ]
  },
  {
   "cell_type": "code",
   "execution_count": 12,
   "metadata": {},
   "outputs": [
    {
     "name": "stdout",
     "output_type": "stream",
     "text": [
      "\tName: yashTestPipeLine\n",
      "\tId: /subscriptions/16be532f-d207-4d70-966d-c6ba9ad7d410/resourceGroups/DF-BlobAutomation/providers/Microsoft.DataFactory/factories/automated-df/pipelines/yashTestPipeLine\n"
     ]
    }
   ],
   "source": [
    "#Create a pipeline with the copy activity\n",
    "p_name = 'yashTestPipeLine'\n",
    "params_for_pipeline = {}\n",
    "p_obj = PipelineResource(activities=[copy_activity], parameters=params_for_pipeline)\n",
    "p = adf_client.pipelines.create_or_update(rg_name, df_name, p_name, p_obj)\n",
    "print_item(p)"
   ]
  },
  {
   "cell_type": "code",
   "execution_count": null,
   "metadata": {},
   "outputs": [],
   "source": []
  }
 ],
 "metadata": {
  "kernelspec": {
   "display_name": "Python 3",
   "language": "python",
   "name": "python3"
  },
  "language_info": {
   "codemirror_mode": {
    "name": "ipython",
    "version": 3
   },
   "file_extension": ".py",
   "mimetype": "text/x-python",
   "name": "python",
   "nbconvert_exporter": "python",
   "pygments_lexer": "ipython3",
   "version": "3.6.5"
  }
 },
 "nbformat": 4,
 "nbformat_minor": 2
}
